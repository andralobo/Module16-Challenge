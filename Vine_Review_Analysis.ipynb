{
  "nbformat": 4,
  "nbformat_minor": 0,
  "metadata": {
    "colab": {
      "name": "Vine_Review_Analysis.ipynb",
      "provenance": [],
      "collapsed_sections": []
    },
    "kernelspec": {
      "name": "python3",
      "display_name": "Python 3"
    }
  },
  "cells": [
    {
      "cell_type": "code",
      "metadata": {
        "colab": {
          "base_uri": "https://localhost:8080/"
        },
        "id": "reECTJOJ_dBj",
        "outputId": "51693f16-f2cb-4df4-db29-f99f3f156818"
      },
      "source": [
        "import os\r\n",
        "# Find the latest version of spark 2.0  from http://www-us.apache.org/dist/spark/ and enter as the spark version\r\n",
        "# For example:\r\n",
        "# spark_version = 'spark-3.0.0'\r\n",
        "spark_version = 'spark-3.0.2'\r\n",
        "os.environ['SPARK_VERSION']=spark_version\r\n",
        "\r\n",
        "# Install Spark and Java\r\n",
        "!apt-get update\r\n",
        "!apt-get install openjdk-11-jdk-headless -qq > /dev/null\r\n",
        "!wget -q http://www-us.apache.org/dist/spark/$SPARK_VERSION/$SPARK_VERSION-bin-hadoop2.7.tgz\r\n",
        "!tar xf $SPARK_VERSION-bin-hadoop2.7.tgz\r\n",
        "!pip install -q findspark\r\n",
        "\r\n",
        "# Set Environment Variables\r\n",
        "import os\r\n",
        "os.environ[\"JAVA_HOME\"] = \"/usr/lib/jvm/java-11-openjdk-amd64\"\r\n",
        "os.environ[\"SPARK_HOME\"] = f\"/content/{spark_version}-bin-hadoop2.7\"\r\n",
        "\r\n",
        "# Start a SparkSession\r\n",
        "import findspark\r\n",
        "findspark.init()"
      ],
      "execution_count": 3,
      "outputs": [
        {
          "output_type": "stream",
          "text": [
            "\r0% [Working]\r            \rHit:1 https://cloud.r-project.org/bin/linux/ubuntu bionic-cran40/ InRelease\n",
            "\r0% [Connecting to archive.ubuntu.com] [Connecting to security.ubuntu.com] [Conn\r0% [1 InRelease gpgv 3,626 B] [Connecting to archive.ubuntu.com] [Connecting to\r                                                                               \rIgn:2 https://developer.download.nvidia.com/compute/cuda/repos/ubuntu1804/x86_64  InRelease\n",
            "\r0% [1 InRelease gpgv 3,626 B] [Connecting to archive.ubuntu.com (91.189.88.152)\r                                                                               \rIgn:3 https://developer.download.nvidia.com/compute/machine-learning/repos/ubuntu1804/x86_64  InRelease\n",
            "\r0% [1 InRelease gpgv 3,626 B] [Connecting to archive.ubuntu.com (91.189.88.152)\r                                                                               \rHit:4 https://developer.download.nvidia.com/compute/cuda/repos/ubuntu1804/x86_64  Release\n",
            "Hit:5 https://developer.download.nvidia.com/compute/machine-learning/repos/ubuntu1804/x86_64  Release\n",
            "Hit:6 http://security.ubuntu.com/ubuntu bionic-security InRelease\n",
            "Hit:7 http://ppa.launchpad.net/c2d4u.team/c2d4u4.0+/ubuntu bionic InRelease\n",
            "Hit:8 http://archive.ubuntu.com/ubuntu bionic InRelease\n",
            "Hit:10 http://archive.ubuntu.com/ubuntu bionic-updates InRelease\n",
            "Hit:11 http://ppa.launchpad.net/cran/libgit2/ubuntu bionic InRelease\n",
            "Hit:12 http://archive.ubuntu.com/ubuntu bionic-backports InRelease\n",
            "Hit:14 http://ppa.launchpad.net/graphics-drivers/ppa/ubuntu bionic InRelease\n",
            "Reading package lists... Done\n"
          ],
          "name": "stdout"
        }
      ]
    },
    {
      "cell_type": "code",
      "metadata": {
        "colab": {
          "base_uri": "https://localhost:8080/"
        },
        "id": "1Bw9frn3_kxQ",
        "outputId": "5f0703bd-c5ce-46b5-db47-00628a5d0ecf"
      },
      "source": [
        "# Download the Postgres driver that will allow Spark to interact with Postgres.\r\n",
        "!wget https://jdbc.postgresql.org/download/postgresql-42.2.16.jar"
      ],
      "execution_count": 4,
      "outputs": [
        {
          "output_type": "stream",
          "text": [
            "--2021-02-20 15:51:11--  https://jdbc.postgresql.org/download/postgresql-42.2.16.jar\n",
            "Resolving jdbc.postgresql.org (jdbc.postgresql.org)... 72.32.157.228, 2001:4800:3e1:1::228\n",
            "Connecting to jdbc.postgresql.org (jdbc.postgresql.org)|72.32.157.228|:443... connected.\n",
            "HTTP request sent, awaiting response... 200 OK\n",
            "Length: 1002883 (979K) [application/java-archive]\n",
            "Saving to: ‘postgresql-42.2.16.jar’\n",
            "\n",
            "postgresql-42.2.16. 100%[===================>] 979.38K  4.79MB/s    in 0.2s    \n",
            "\n",
            "2021-02-20 15:51:12 (4.79 MB/s) - ‘postgresql-42.2.16.jar’ saved [1002883/1002883]\n",
            "\n"
          ],
          "name": "stdout"
        }
      ]
    },
    {
      "cell_type": "code",
      "metadata": {
        "id": "DO9tyc59_k4m"
      },
      "source": [
        "from pyspark.sql import SparkSession\r\n",
        "spark = SparkSession.builder.appName(\"BigData-Challenge\").config(\"spark.driver.extraClassPath\",\"/content/postgresql-42.2.16.jar\").getOrCreate()"
      ],
      "execution_count": 5,
      "outputs": []
    },
    {
      "cell_type": "code",
      "metadata": {
        "colab": {
          "base_uri": "https://localhost:8080/"
        },
        "id": "1IQCKQ20_k7g",
        "outputId": "e7be75f0-b636-4f0a-f4e7-3ae4a730169c"
      },
      "source": [
        "from pyspark import SparkFiles\r\n",
        "url = \"https://s3.amazonaws.com/amazon-reviews-pds/tsv/amazon_reviews_us_Grocery_v1_00.tsv.gz\"\r\n",
        "spark.sparkContext.addFile(url)\r\n",
        "df = spark.read.option(\"encoding\", \"UTF-8\").csv(SparkFiles.get(\"\"), sep=\"\\t\", header=True, inferSchema=True)\r\n",
        "df.show()"
      ],
      "execution_count": 6,
      "outputs": [
        {
          "output_type": "stream",
          "text": [
            "+-----------+-----------+--------------+----------+--------------+--------------------+----------------+-----------+-------------+-----------+----+-----------------+--------------------+--------------------+-----------+\n",
            "|marketplace|customer_id|     review_id|product_id|product_parent|       product_title|product_category|star_rating|helpful_votes|total_votes|vine|verified_purchase|     review_headline|         review_body|review_date|\n",
            "+-----------+-----------+--------------+----------+--------------+--------------------+----------------+-----------+-------------+-----------+----+-----------------+--------------------+--------------------+-----------+\n",
            "|         US|   42521656|R26MV8D0KG6QI6|B000SAQCWC|     159713740|The Cravings Plac...|         Grocery|          5|            0|          0|   N|                Y|Using these for y...|As a family aller...| 2015-08-31|\n",
            "|         US|   12049833|R1OF8GP57AQ1A0|B00509LVIQ|     138680402|Mauna Loa Macadam...|         Grocery|          5|            0|          0|   N|                Y|           Wonderful|My favorite nut. ...| 2015-08-31|\n",
            "|         US|     107642|R3VDC1QB6MC4ZZ|B00KHXESLC|     252021703|Organic Matcha Gr...|         Grocery|          5|            0|          0|   N|                N|          Five Stars|This green tea ta...| 2015-08-31|\n",
            "|         US|    6042304|R12FA3DCF8F9ER|B000F8JIIC|     752728342|15oz Raspberry Ly...|         Grocery|          5|            0|          0|   N|                Y|          Five Stars|I love Melissa's ...| 2015-08-31|\n",
            "|         US|   18123821| RTWHVNV6X4CNJ|B004ZWR9RQ|     552138758|Stride Spark Kine...|         Grocery|          5|            0|          0|   N|                Y|          Five Stars|                good| 2015-08-31|\n",
            "|         US|   23649464| RIG9AWFOGRDVO|B00AL6QBZ6|     681475449|Herr's Popcorn Ho...|         Grocery|          2|            1|          1|   N|                Y|           Not Happy|The popcorn was s...| 2015-08-31|\n",
            "|         US|   32778285|R1S1XSG4ZCHDGS|B00BCNSTRA|     578681693|Larabar uber, 1.4...|         Grocery|          5|            1|          1|   N|                Y|          Five Stars|Love these bars, ...| 2015-08-31|\n",
            "|         US|   46612941| RB15NBVY5ELVW|B0089MM2BG|     350968436|Shirakiku Soba No...|         Grocery|          5|            2|          2|   N|                Y|          Five Stars|Love the taste bu...| 2015-08-31|\n",
            "|         US|   31525399| R56358YM1ZJ7I|B00Y1C9770|     729982780|Jif Chocolate Nut...|         Grocery|          5|            0|          0|   N|                N|      Great tasting!|I'm a member of t...| 2015-08-31|\n",
            "|         US|   19624355|R1ODXB3C9UP3NL|B00J074W94|       2499702|Orgain Organic Pl...|         Grocery|          1|            1|          3|   N|                N|Disgusting now an...|Used to be a dece...| 2015-08-31|\n",
            "|         US|   31910375|R155ZMVLD5C9BP|B0001VKKOO|     189938205|Bragg - All Natur...|         Grocery|          4|            3|          4|   N|                Y|If you like soy s...|I cannot tell the...| 2015-08-31|\n",
            "|         US|   12816533|R2IXW43PUNYM0G|B007TGH4CK|     398128262|Wholesome Sweeten...|         Grocery|          4|            1|          1|   N|                Y|          Four Stars|Good flavor and s...| 2015-08-31|\n",
            "|         US|   23208852|R3LYEG1QCK2BG0|B002HMN6SC|      18057786|Kadoya Pure Sesam...|         Grocery|          5|            0|          0|   N|                Y|          Five Stars|Great to use in r...| 2015-08-31|\n",
            "|         US|   17348415|R20LREICPM3YH0|B004NRHAZO|     595020880|Nishiki Premium B...|         Grocery|          5|            0|          0|   N|                Y|          Five Stars|It's rice. Have e...| 2015-08-31|\n",
            "|         US|   46763945| RHA5COCZDVB13|B00V7LJIG8|     173088090|Everly Passion Fr...|         Grocery|          5|            0|          0|   N|                Y|          Five Stars|Very good tasting...| 2015-08-31|\n",
            "|         US|     961747| RT9BGRQANMANE|B0000E2YFI|     120269621|Charms Blue Razzb...|         Grocery|          5|            0|          0|   N|                Y|           Excellent|They were perfect...| 2015-08-31|\n",
            "|         US|   16888081| ROD1TU5JCS7JQ|B00VK5SQOQ|     204992966|Food Should Taste...|         Grocery|          5|            0|          0|   N|                N|              YUMMY!|Wow, these are so...| 2015-08-31|\n",
            "|         US|   22765168|R3T6TTD2IN0EFZ|B00XDXMLL2|     971154239|Skippy Creamy Pea...|         Grocery|          1|            4|          4|   N|                N|1 Out Of 5 Of My ...|I bought this fro...| 2015-08-31|\n",
            "|         US|   36328996|R1OCUGZ444NKV3|B00MN4KX3A|     787182505|Celestial Seasoni...|         Grocery|          5|            5|          5|   N|                Y|delicious tea and...|I love this tea, ...| 2015-08-31|\n",
            "|         US|   27092724| RCQQGWTC4J4TZ|B004NTCE1M|     653570135|Nutiva Organic Vi...|         Grocery|          4|            0|          0|   N|                Y|    Best coconut oil|I have used servo...| 2015-08-31|\n",
            "+-----------+-----------+--------------+----------+--------------+--------------------+----------------+-----------+-------------+-----------+----+-----------------+--------------------+--------------------+-----------+\n",
            "only showing top 20 rows\n",
            "\n"
          ],
          "name": "stdout"
        }
      ]
    },
    {
      "cell_type": "code",
      "metadata": {
        "colab": {
          "base_uri": "https://localhost:8080/"
        },
        "id": "DFsj_Kik_k-Z",
        "outputId": "17d04a82-b1fc-46a5-eaa9-51e8c9de99ef"
      },
      "source": [
        "# 1. Filter the data and create a new DataFrame or table to retrieve all the rows where the total_votes count is equal to or greater than 20 \r\n",
        "#    to pick reviews that are more likely to be helpful and to avoid having division by zero errors later on.\r\n",
        "\r\n",
        "vine_df = df.select([\"review_id\",\"star_rating\",\"helpful_votes\",\"total_votes\",\"vine\",\"verified_purchase\"])\r\n",
        "vine_df = df.filter(\"total_votes >= 20\")\r\n",
        "\r\n",
        "vine_df.show()\r\n"
      ],
      "execution_count": 7,
      "outputs": [
        {
          "output_type": "stream",
          "text": [
            "+-----------+-----------+--------------+----------+--------------+--------------------+----------------+-----------+-------------+-----------+----+-----------------+--------------------+--------------------+-----------+\n",
            "|marketplace|customer_id|     review_id|product_id|product_parent|       product_title|product_category|star_rating|helpful_votes|total_votes|vine|verified_purchase|     review_headline|         review_body|review_date|\n",
            "+-----------+-----------+--------------+----------+--------------+--------------------+----------------+-----------+-------------+-----------+----+-----------------+--------------------+--------------------+-----------+\n",
            "|         US|    2622293|R1OAZUG90XPU2U|B00JQ47DO2|     268145085|Epic Bison Bacon ...|         Grocery|          5|          250|        274|   N|                Y|Way better than s...|I love these bars...| 2015-08-31|\n",
            "|         US|   12244195|R23VPTUJ8I8NR5|B00XWQ2F2K|     138780411|Anna and Sarah Or...|         Grocery|          1|           28|         30|   N|                Y|          DO NOT BUY|These dates were ...| 2015-08-31|\n",
            "|         US|   13866943|R33VIWRD2X5IA9|B00JPJRQ7W|     641150281|Viva Naturals - T...|         Grocery|          1|            0|         20|   N|                Y|            One Star|Dislike the produ...| 2015-08-31|\n",
            "|         US|   37330825| R6SRJFJ5YH4UM|B0036RKIB0|     532014945|Indus Organics Bl...|         Grocery|          5|           23|         26|   N|                Y|            Love it!|I love it.  Taste...| 2015-08-31|\n",
            "|         US|   51876967|R3DOS07BIMP4DJ|B003GV7JFE|     210226355|Eight O Clock Cof...|         Grocery|          2|           32|         42|   N|                N|This is horrible ...|Thought I'd save ...| 2015-08-31|\n",
            "|         US|   44929048|R26UFXLLQ2N0CR|B0001M11DC|     914003957|Frontier Natural ...|         Grocery|          1|            0|         20|   N|                Y|            One Star|I love this in my...| 2015-08-31|\n",
            "|         US|   52911420|R30PGWX4HN1CFG|B005HG9ET0|     192623861|Essentia 9.5 pH D...|         Grocery|          1|           85|         95|   N|                Y|Floating \"Dirt\" o...|I was drinking a ...| 2015-08-31|\n",
            "|         US|   47146329|R2XASGYIENUHQO|B011SUW67A|     114151748|Bestpresso Nespre...|         Grocery|          5|           28|         32|   N|                Y|                   L|Now for the impor...| 2015-08-31|\n",
            "|         US|   33994423|R34UQPQCTSKQK9|B00UMPYW8E|      79597973|Banza Chickpea Pa...|         Grocery|          5|           23|         26|   N|                Y|  Yummy and healthy!|I originally saw ...| 2015-08-31|\n",
            "|         US|   37325521|R2M6WNM2OZZHKS|B00ZK6FX60|     869293884|Zevia Naturally S...|         Grocery|          1|           20|         22|   N|                N|this clear versio...|As many have stat...| 2015-08-31|\n",
            "|         US|   42332167| RO6JNMUJDE1LP|B00CMS97YS|     765333500|Sugar Free Gummy ...|         Grocery|          5|           37|         50|   N|                N|A magical mystery...|My boss left thes...| 2015-08-30|\n",
            "|         US|   12449640|R1WNL4OIMSKDBR|B00886NJP6|     734319139|Okonomi Sauce - 1...|         Grocery|          5|           35|         36|   N|                Y|       Awesome Sauce|The definition of...| 2015-08-30|\n",
            "|         US|   39997444| RDGWZ3U8LQZE6|B00WVSNJ8Y|     400361720|Organic Valley, O...|         Grocery|          2|           48|         54|   N|                Y|Price increase fo...|I love this milk,...| 2015-08-30|\n",
            "|         US|   13197915|R3HFIKVOUDHT4I|B00BU8SM60|      64680447|ThinSlim Foods Lo...|         Grocery|          3|           64|         67|   N|                N|The regular bread...|Of my $100+ order...| 2015-08-30|\n",
            "|         US|   35088169| R22M0N2OZSICN|B001PEZLCM|      18443677|Non-GMO Project V...|         Grocery|          5|           21|         23|   N|                Y|Great buy, price ...|Bought this for m...| 2015-08-30|\n",
            "|         US|   34743393|R1E43139TRHB5T|B004M8WW0W|     124423953|HERSHEY'S KISSES ...|         Grocery|          5|           22|         22|   N|                Y|     Great Packaging|The packaging for...| 2015-08-30|\n",
            "|         US|   25668033|R1L40ST6C2UJHK|B00WXZJTS4|     820652631|Medley Hills Farm...|         Grocery|          5|          262|        272|   N|                Y|Thank you, lord o...|I almost never wr...| 2015-08-30|\n",
            "|         US|   45291046|R1XISUX6DDSXKZ|B007TGDXNO|     267956568|San Francisco Bay...|         Grocery|          5|           37|         41|   N|                Y|     Love this book!|I am such a fan o...| 2015-08-30|\n",
            "|         US|   49860008|R35MWO8UIXOA37|B008XMVM4U|      32578015|Kirkland Signatur...|         Grocery|          1|           20|         22|   N|                Y|very very overpri...|very very overpri...| 2015-08-30|\n",
            "|         US|   21448133|R1RZ0G02ASP7SF|B00F9VCQ2A|     132890444|       Sparkling ICE|         Grocery|          2|           35|         43|   N|                Y|Does Not Tell How...|I am conflicted o...| 2015-08-30|\n",
            "+-----------+-----------+--------------+----------+--------------+--------------------+----------------+-----------+-------------+-----------+----+-----------------+--------------------+--------------------+-----------+\n",
            "only showing top 20 rows\n",
            "\n"
          ],
          "name": "stdout"
        }
      ]
    },
    {
      "cell_type": "code",
      "metadata": {
        "colab": {
          "base_uri": "https://localhost:8080/"
        },
        "id": "GryRKppQARoN",
        "outputId": "be4e9b1f-5e99-4cc2-e90f-458727ad3a53"
      },
      "source": [
        "# 2. Filter the new DataFrame or table created in Step 1 and create a new DataFrame or table to retrieve all the rows where the number of helpful_votes \r\n",
        "#    divided by total_votes is equal to or greater than 50%.\r\n",
        "\r\n",
        "helpful_votes = vine_df.filter(vine_df[\"helpful_votes\"]/vine_df[\"total_votes\"]>=0.5)\r\n",
        "helpful_votes.show()"
      ],
      "execution_count": 8,
      "outputs": [
        {
          "output_type": "stream",
          "text": [
            "+-----------+-----------+--------------+----------+--------------+--------------------+----------------+-----------+-------------+-----------+----+-----------------+--------------------+--------------------+-----------+\n",
            "|marketplace|customer_id|     review_id|product_id|product_parent|       product_title|product_category|star_rating|helpful_votes|total_votes|vine|verified_purchase|     review_headline|         review_body|review_date|\n",
            "+-----------+-----------+--------------+----------+--------------+--------------------+----------------+-----------+-------------+-----------+----+-----------------+--------------------+--------------------+-----------+\n",
            "|         US|    2622293|R1OAZUG90XPU2U|B00JQ47DO2|     268145085|Epic Bison Bacon ...|         Grocery|          5|          250|        274|   N|                Y|Way better than s...|I love these bars...| 2015-08-31|\n",
            "|         US|   12244195|R23VPTUJ8I8NR5|B00XWQ2F2K|     138780411|Anna and Sarah Or...|         Grocery|          1|           28|         30|   N|                Y|          DO NOT BUY|These dates were ...| 2015-08-31|\n",
            "|         US|   37330825| R6SRJFJ5YH4UM|B0036RKIB0|     532014945|Indus Organics Bl...|         Grocery|          5|           23|         26|   N|                Y|            Love it!|I love it.  Taste...| 2015-08-31|\n",
            "|         US|   51876967|R3DOS07BIMP4DJ|B003GV7JFE|     210226355|Eight O Clock Cof...|         Grocery|          2|           32|         42|   N|                N|This is horrible ...|Thought I'd save ...| 2015-08-31|\n",
            "|         US|   52911420|R30PGWX4HN1CFG|B005HG9ET0|     192623861|Essentia 9.5 pH D...|         Grocery|          1|           85|         95|   N|                Y|Floating \"Dirt\" o...|I was drinking a ...| 2015-08-31|\n",
            "|         US|   47146329|R2XASGYIENUHQO|B011SUW67A|     114151748|Bestpresso Nespre...|         Grocery|          5|           28|         32|   N|                Y|                   L|Now for the impor...| 2015-08-31|\n",
            "|         US|   33994423|R34UQPQCTSKQK9|B00UMPYW8E|      79597973|Banza Chickpea Pa...|         Grocery|          5|           23|         26|   N|                Y|  Yummy and healthy!|I originally saw ...| 2015-08-31|\n",
            "|         US|   37325521|R2M6WNM2OZZHKS|B00ZK6FX60|     869293884|Zevia Naturally S...|         Grocery|          1|           20|         22|   N|                N|this clear versio...|As many have stat...| 2015-08-31|\n",
            "|         US|   42332167| RO6JNMUJDE1LP|B00CMS97YS|     765333500|Sugar Free Gummy ...|         Grocery|          5|           37|         50|   N|                N|A magical mystery...|My boss left thes...| 2015-08-30|\n",
            "|         US|   12449640|R1WNL4OIMSKDBR|B00886NJP6|     734319139|Okonomi Sauce - 1...|         Grocery|          5|           35|         36|   N|                Y|       Awesome Sauce|The definition of...| 2015-08-30|\n",
            "|         US|   39997444| RDGWZ3U8LQZE6|B00WVSNJ8Y|     400361720|Organic Valley, O...|         Grocery|          2|           48|         54|   N|                Y|Price increase fo...|I love this milk,...| 2015-08-30|\n",
            "|         US|   13197915|R3HFIKVOUDHT4I|B00BU8SM60|      64680447|ThinSlim Foods Lo...|         Grocery|          3|           64|         67|   N|                N|The regular bread...|Of my $100+ order...| 2015-08-30|\n",
            "|         US|   35088169| R22M0N2OZSICN|B001PEZLCM|      18443677|Non-GMO Project V...|         Grocery|          5|           21|         23|   N|                Y|Great buy, price ...|Bought this for m...| 2015-08-30|\n",
            "|         US|   34743393|R1E43139TRHB5T|B004M8WW0W|     124423953|HERSHEY'S KISSES ...|         Grocery|          5|           22|         22|   N|                Y|     Great Packaging|The packaging for...| 2015-08-30|\n",
            "|         US|   25668033|R1L40ST6C2UJHK|B00WXZJTS4|     820652631|Medley Hills Farm...|         Grocery|          5|          262|        272|   N|                Y|Thank you, lord o...|I almost never wr...| 2015-08-30|\n",
            "|         US|   45291046|R1XISUX6DDSXKZ|B007TGDXNO|     267956568|San Francisco Bay...|         Grocery|          5|           37|         41|   N|                Y|     Love this book!|I am such a fan o...| 2015-08-30|\n",
            "|         US|   49860008|R35MWO8UIXOA37|B008XMVM4U|      32578015|Kirkland Signatur...|         Grocery|          1|           20|         22|   N|                Y|very very overpri...|very very overpri...| 2015-08-30|\n",
            "|         US|   21448133|R1RZ0G02ASP7SF|B00F9VCQ2A|     132890444|       Sparkling ICE|         Grocery|          2|           35|         43|   N|                Y|Does Not Tell How...|I am conflicted o...| 2015-08-30|\n",
            "|         US|   22100767|R10HZ77HAWVJH6|B001EO5Q64|     653570135|Nutiva Organic Vi...|         Grocery|          5|           19|         22|   N|                Y|Organic Virgin co...|So I have been he...| 2015-08-30|\n",
            "|         US|   51245711|R1PI04EDGLLCXV|B001OMD5ZA|     360602468|Come With Me Kitt...|         Grocery|          5|           25|         28|   N|                Y|I was fortunate e...|I was fortunate e...| 2015-08-30|\n",
            "+-----------+-----------+--------------+----------+--------------+--------------------+----------------+-----------+-------------+-----------+----+-----------------+--------------------+--------------------+-----------+\n",
            "only showing top 20 rows\n",
            "\n"
          ],
          "name": "stdout"
        }
      ]
    },
    {
      "cell_type": "code",
      "metadata": {
        "colab": {
          "base_uri": "https://localhost:8080/"
        },
        "id": "rBtM0i5fAX6U",
        "outputId": "981055af-c363-4351-f957-42e6fa1026c2"
      },
      "source": [
        "# 3. Filter the DataFrame or table created in Step 2, and create a new DataFrame or table that retrieves all the rows where a review was written \r\n",
        "#    as part of the Vine program (paid), vine == 'Y'.\r\n",
        "\r\n",
        "paid = helpful_votes.filter(helpful_votes[\"vine\"] == \"Y\")\r\n",
        "paid.show()"
      ],
      "execution_count": 9,
      "outputs": [
        {
          "output_type": "stream",
          "text": [
            "+-----------+-----------+--------------+----------+--------------+--------------------+----------------+-----------+-------------+-----------+----+-----------------+--------------------+--------------------+-----------+\n",
            "|marketplace|customer_id|     review_id|product_id|product_parent|       product_title|product_category|star_rating|helpful_votes|total_votes|vine|verified_purchase|     review_headline|         review_body|review_date|\n",
            "+-----------+-----------+--------------+----------+--------------+--------------------+----------------+-----------+-------------+-----------+----+-----------------+--------------------+--------------------+-----------+\n",
            "|         US|   34773146|R3MKO875WGIEBJ|B00N9IMNKA|      61108636|Vita Coco Organic...|         Grocery|          5|           34|         37|   Y|                N|My Top Coconut Oi...|I'm very strict w...| 2015-08-05|\n",
            "|         US|   35093059|R3OPNTK61FQ7MP|B00S0AOIFA|     713485594|    V8 Veggie Blends|         Grocery|          5|           32|         37|   Y|                N|I Love the Taste ...|I've long been a ...| 2015-07-31|\n",
            "|         US|   49003190| RMDRU8I773X5U|B00RQPUV0Q|     891939475|Core Natural Nutr...|         Grocery|          4|           22|         25|   Y|                N|      Almost perfect|I've been searchi...| 2015-05-18|\n",
            "|         US|   14021705| RR83RGWFEFZCL|B00M8VSKW4|     546564659|Thai Kitchen Coco...|         Grocery|          3|           61|         64|   Y|                N|Depends on what y...|Thai Kitchen Orga...| 2015-04-09|\n",
            "|         US|   49622244|R2TMZ7GV8SPIRV|B00S79RMPC|     579233707|Skinny Cow Creamy...|         Grocery|          4|           23|         23|   Y|                N|        Pretty tasty|I like these chil...| 2015-03-20|\n",
            "|         US|   44737123| RX88JLUIFA4Q2|B00JKM9HN0|     472248565|C20 Pure Coconut ...|         Grocery|          4|           84|         87|   Y|                Y|How it compares t...|Not all coconut w...| 2015-02-02|\n",
            "|         US|   30337663| RV3AHTDRHDH7R|B00NFJPK5S|     238760432|  Nutiva Coconut Oil|         Grocery|          5|          253|        258|   Y|                N|A Better Refined ...|Since I regularly...| 2015-01-22|\n",
            "|         US|   40062567|R13EGJI8C8YJ4Y|B00LWUP3QI|     959066090|Boost Ready To Dr...|         Grocery|          5|           19|         20|   Y|                N|NUTRITIOUS, GLUTE...|I am Lactose Into...| 2014-12-31|\n",
            "|         US|   51813953| R9SNSQTK4TJOG|B00M3EBI20|     641150281|Viva Naturals - T...|         Grocery|          2|           11|         20|   Y|                N|Delicious, but co...|This is very deli...| 2014-12-13|\n",
            "|         US|   39623326|R1A76AK493C8P8|B00LWUOX5K|     254603238|Boost Ready To Dr...|         Grocery|          5|           83|         90|   Y|                N|Nutritional drink...|As an nurse, we u...| 2014-11-25|\n",
            "|         US|   33488401|R3LOTAAVOZ9D1L|B00HES7572|     682334843|Viva Naturals #1 ...|         Grocery|          3|           19|         26|   Y|                N|Serving size of 5...|There is no doubt...| 2014-11-13|\n",
            "|         US|   34773146|R1BRN47DX8UXA7|B00IDCFXFE|     231412159|Viva Labs Organic...|         Grocery|          5|          154|        159|   Y|                N|The best GLUTEN F...|I went gluten-fre...| 2014-10-31|\n",
            "|         US|   18590494|R13CEXESMDKT3D|B00H889MGK|     240732434|Viva Labs Organic...|         Grocery|          3|           33|         36|   Y|                N|smaller and sligh...|We regularly eat ...| 2014-10-27|\n",
            "|         US|   50705838|R1OM89J7BP8MUZ|B00F6MFXCW|     805409900|Crispy Green 100%...|         Grocery|          1|           23|         29|   Y|                N|            No treat|A great idea and ...| 2014-06-25|\n",
            "|         US|   49351715| RZP9LBF95AEHO|B00IP6Y21E|     484443228|Nature Valley Bis...|         Grocery|          3|           56|         58|   Y|                N|Holy unnecessary ...|Is your life inco...| 2014-06-24|\n",
            "|         US|   29905784|R3V9P61EYXDNRV|B00H29LROK|     696184600|Kauai Coffee Medi...|         Grocery|          5|           51|         54|   Y|                N|      Awesome flavor|This coffee is so...| 2014-06-15|\n",
            "|         US|   47914576|R2BDT05RK7TOJ9|B00CXZKCTY|     542711537|Gringo Bandito Ho...|         Grocery|          5|           21|         22|   Y|                N|Delicious, Digest...|GRINGO BANDITO HO...| 2014-04-24|\n",
            "|         US|   51409121|R2PFVGR88KV91R|B007VJ4J5A|       9584116|Enfagrow Natural ...|         Grocery|          2|           16|         23|   Y|                N|Full of corn syru...|Unfortunately, Me...| 2013-12-31|\n",
            "|         US|   51999404|R3BV8N52HPNJJM|B00DUQDIKU|     844957952|     Lipton Tea Bags|         Grocery|          4|           18|         20|   Y|                N|Tea with a bigger...|I recently got tr...| 2013-12-19|\n",
            "|         US|   53058973|R2GOJRL2PW4JNM|B00DDMIMXE|      45619785|Pampers Sensitive...|         Grocery|          4|           24|         30|   Y|                N|Nice moist wipes,...|I like a lot abou...| 2013-10-30|\n",
            "+-----------+-----------+--------------+----------+--------------+--------------------+----------------+-----------+-------------+-----------+----+-----------------+--------------------+--------------------+-----------+\n",
            "only showing top 20 rows\n",
            "\n"
          ],
          "name": "stdout"
        }
      ]
    },
    {
      "cell_type": "code",
      "metadata": {
        "colab": {
          "base_uri": "https://localhost:8080/"
        },
        "id": "l6I3yZ0S_lBi",
        "outputId": "4e2f84f8-bec9-4093-b74a-e7c6323f1674"
      },
      "source": [
        "# 4. Repeat Step 3, but this time retrieve all the rows where the review was not part of the Vine program (unpaid), vine == 'N'.\r\n",
        "\r\n",
        "unpaid = helpful_votes.filter(helpful_votes[\"vine\"] == \"N\")\r\n",
        "unpaid.show()"
      ],
      "execution_count": 10,
      "outputs": [
        {
          "output_type": "stream",
          "text": [
            "+-----------+-----------+--------------+----------+--------------+--------------------+----------------+-----------+-------------+-----------+----+-----------------+--------------------+--------------------+-----------+\n",
            "|marketplace|customer_id|     review_id|product_id|product_parent|       product_title|product_category|star_rating|helpful_votes|total_votes|vine|verified_purchase|     review_headline|         review_body|review_date|\n",
            "+-----------+-----------+--------------+----------+--------------+--------------------+----------------+-----------+-------------+-----------+----+-----------------+--------------------+--------------------+-----------+\n",
            "|         US|    2622293|R1OAZUG90XPU2U|B00JQ47DO2|     268145085|Epic Bison Bacon ...|         Grocery|          5|          250|        274|   N|                Y|Way better than s...|I love these bars...| 2015-08-31|\n",
            "|         US|   12244195|R23VPTUJ8I8NR5|B00XWQ2F2K|     138780411|Anna and Sarah Or...|         Grocery|          1|           28|         30|   N|                Y|          DO NOT BUY|These dates were ...| 2015-08-31|\n",
            "|         US|   37330825| R6SRJFJ5YH4UM|B0036RKIB0|     532014945|Indus Organics Bl...|         Grocery|          5|           23|         26|   N|                Y|            Love it!|I love it.  Taste...| 2015-08-31|\n",
            "|         US|   51876967|R3DOS07BIMP4DJ|B003GV7JFE|     210226355|Eight O Clock Cof...|         Grocery|          2|           32|         42|   N|                N|This is horrible ...|Thought I'd save ...| 2015-08-31|\n",
            "|         US|   52911420|R30PGWX4HN1CFG|B005HG9ET0|     192623861|Essentia 9.5 pH D...|         Grocery|          1|           85|         95|   N|                Y|Floating \"Dirt\" o...|I was drinking a ...| 2015-08-31|\n",
            "|         US|   47146329|R2XASGYIENUHQO|B011SUW67A|     114151748|Bestpresso Nespre...|         Grocery|          5|           28|         32|   N|                Y|                   L|Now for the impor...| 2015-08-31|\n",
            "|         US|   33994423|R34UQPQCTSKQK9|B00UMPYW8E|      79597973|Banza Chickpea Pa...|         Grocery|          5|           23|         26|   N|                Y|  Yummy and healthy!|I originally saw ...| 2015-08-31|\n",
            "|         US|   37325521|R2M6WNM2OZZHKS|B00ZK6FX60|     869293884|Zevia Naturally S...|         Grocery|          1|           20|         22|   N|                N|this clear versio...|As many have stat...| 2015-08-31|\n",
            "|         US|   42332167| RO6JNMUJDE1LP|B00CMS97YS|     765333500|Sugar Free Gummy ...|         Grocery|          5|           37|         50|   N|                N|A magical mystery...|My boss left thes...| 2015-08-30|\n",
            "|         US|   12449640|R1WNL4OIMSKDBR|B00886NJP6|     734319139|Okonomi Sauce - 1...|         Grocery|          5|           35|         36|   N|                Y|       Awesome Sauce|The definition of...| 2015-08-30|\n",
            "|         US|   39997444| RDGWZ3U8LQZE6|B00WVSNJ8Y|     400361720|Organic Valley, O...|         Grocery|          2|           48|         54|   N|                Y|Price increase fo...|I love this milk,...| 2015-08-30|\n",
            "|         US|   13197915|R3HFIKVOUDHT4I|B00BU8SM60|      64680447|ThinSlim Foods Lo...|         Grocery|          3|           64|         67|   N|                N|The regular bread...|Of my $100+ order...| 2015-08-30|\n",
            "|         US|   35088169| R22M0N2OZSICN|B001PEZLCM|      18443677|Non-GMO Project V...|         Grocery|          5|           21|         23|   N|                Y|Great buy, price ...|Bought this for m...| 2015-08-30|\n",
            "|         US|   34743393|R1E43139TRHB5T|B004M8WW0W|     124423953|HERSHEY'S KISSES ...|         Grocery|          5|           22|         22|   N|                Y|     Great Packaging|The packaging for...| 2015-08-30|\n",
            "|         US|   25668033|R1L40ST6C2UJHK|B00WXZJTS4|     820652631|Medley Hills Farm...|         Grocery|          5|          262|        272|   N|                Y|Thank you, lord o...|I almost never wr...| 2015-08-30|\n",
            "|         US|   45291046|R1XISUX6DDSXKZ|B007TGDXNO|     267956568|San Francisco Bay...|         Grocery|          5|           37|         41|   N|                Y|     Love this book!|I am such a fan o...| 2015-08-30|\n",
            "|         US|   49860008|R35MWO8UIXOA37|B008XMVM4U|      32578015|Kirkland Signatur...|         Grocery|          1|           20|         22|   N|                Y|very very overpri...|very very overpri...| 2015-08-30|\n",
            "|         US|   21448133|R1RZ0G02ASP7SF|B00F9VCQ2A|     132890444|       Sparkling ICE|         Grocery|          2|           35|         43|   N|                Y|Does Not Tell How...|I am conflicted o...| 2015-08-30|\n",
            "|         US|   22100767|R10HZ77HAWVJH6|B001EO5Q64|     653570135|Nutiva Organic Vi...|         Grocery|          5|           19|         22|   N|                Y|Organic Virgin co...|So I have been he...| 2015-08-30|\n",
            "|         US|   51245711|R1PI04EDGLLCXV|B001OMD5ZA|     360602468|Come With Me Kitt...|         Grocery|          5|           25|         28|   N|                Y|I was fortunate e...|I was fortunate e...| 2015-08-30|\n",
            "+-----------+-----------+--------------+----------+--------------+--------------------+----------------+-----------+-------------+-----------+----+-----------------+--------------------+--------------------+-----------+\n",
            "only showing top 20 rows\n",
            "\n"
          ],
          "name": "stdout"
        }
      ]
    },
    {
      "cell_type": "code",
      "metadata": {
        "colab": {
          "base_uri": "https://localhost:8080/"
        },
        "id": "bxCS8OVdAngV",
        "outputId": "1d4e3ca6-d25e-4005-b872-e36f6b7fae90"
      },
      "source": [
        "# 5. Determine the total number of reviews, the number of 5-star reviews, and the percentage of 5-star reviews for the two types of review (paid vs unpaid).\r\n",
        "\r\n",
        "# 5 Star Vine (paid) reviews\r\n",
        "five_star_paid = paid.filter(paid[\"star_rating\"]== 5)\r\n",
        "five_star_paid.count()"
      ],
      "execution_count": 19,
      "outputs": [
        {
          "output_type": "execute_result",
          "data": {
            "text/plain": [
              "20"
            ]
          },
          "metadata": {
            "tags": []
          },
          "execution_count": 19
        }
      ]
    },
    {
      "cell_type": "code",
      "metadata": {
        "colab": {
          "base_uri": "https://localhost:8080/"
        },
        "id": "Wl32KrKyElxp",
        "outputId": "6a58ad58-c712-4b80-983f-83d77f240069"
      },
      "source": [
        "# total Vine (paid) reviews\r\n",
        "paid.count()"
      ],
      "execution_count": 12,
      "outputs": [
        {
          "output_type": "execute_result",
          "data": {
            "text/plain": [
              "61"
            ]
          },
          "metadata": {
            "tags": []
          },
          "execution_count": 12
        }
      ]
    },
    {
      "cell_type": "code",
      "metadata": {
        "colab": {
          "base_uri": "https://localhost:8080/"
        },
        "id": "381RhUtdE98W",
        "outputId": "11dd0e3c-b78f-4850-bcf9-5bf4b3526e93"
      },
      "source": [
        "# Vine (paid) Average\r\n",
        "five_star_paid.count() / paid.count()"
      ],
      "execution_count": 13,
      "outputs": [
        {
          "output_type": "execute_result",
          "data": {
            "text/plain": [
              "0.32786885245901637"
            ]
          },
          "metadata": {
            "tags": []
          },
          "execution_count": 13
        }
      ]
    },
    {
      "cell_type": "code",
      "metadata": {
        "colab": {
          "base_uri": "https://localhost:8080/"
        },
        "id": "sdTJbAEcEIi5",
        "outputId": "4c18aa5e-ce01-4398-a3e6-1c9af811f004"
      },
      "source": [
        "# 5 Star unpaid reviews\r\n",
        "five_star_unpaid = unpaid.filter(unpaid[\"star_rating\"]== 5)\r\n",
        "five_star_unpaid.count()"
      ],
      "execution_count": 14,
      "outputs": [
        {
          "output_type": "execute_result",
          "data": {
            "text/plain": [
              "15689"
            ]
          },
          "metadata": {
            "tags": []
          },
          "execution_count": 14
        }
      ]
    },
    {
      "cell_type": "code",
      "metadata": {
        "colab": {
          "base_uri": "https://localhost:8080/"
        },
        "id": "G6kCCEROE1EA",
        "outputId": "043a2ebf-e335-4747-c702-49705b757cad"
      },
      "source": [
        "# total unpaid reviews\r\n",
        "unpaid.count()"
      ],
      "execution_count": 15,
      "outputs": [
        {
          "output_type": "execute_result",
          "data": {
            "text/plain": [
              "28287"
            ]
          },
          "metadata": {
            "tags": []
          },
          "execution_count": 15
        }
      ]
    },
    {
      "cell_type": "code",
      "metadata": {
        "colab": {
          "base_uri": "https://localhost:8080/"
        },
        "id": "i8ujhwNPE8FW",
        "outputId": "36080252-4f8d-4e88-f547-d0bbf17d2fa0"
      },
      "source": [
        "# unpaid Average\r\n",
        "five_star_unpaid.count() / unpaid.count()"
      ],
      "execution_count": 16,
      "outputs": [
        {
          "output_type": "execute_result",
          "data": {
            "text/plain": [
              "0.5546364054159154"
            ]
          },
          "metadata": {
            "tags": []
          },
          "execution_count": 16
        }
      ]
    },
    {
      "cell_type": "code",
      "metadata": {
        "id": "Gfk2kjIKE8X_"
      },
      "source": [
        ""
      ],
      "execution_count": null,
      "outputs": []
    }
  ]
}